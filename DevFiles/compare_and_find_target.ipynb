{
 "cells": [
  {
   "cell_type": "code",
   "execution_count": 1,
   "metadata": {},
   "outputs": [],
   "source": [
    "import numpy as np\n",
    "import matplotlib.pyplot as plt\n",
    "import cv2 as cv\n",
    "from matplotlib import image\n",
    "%matplotlib qt\n"
   ]
  },
  {
   "cell_type": "markdown",
   "metadata": {},
   "source": [
    "## Using backround extraction on averaged images to reduce temporal effects "
   ]
  },
  {
   "cell_type": "code",
   "execution_count": 5,
   "metadata": {},
   "outputs": [
    {
     "name": "stdout",
     "output_type": "stream",
     "text": [
      "1610 1005 51 25\n"
     ]
    }
   ],
   "source": [
    "import numpy as np\n",
    "import cv2 as cv\n",
    "\n",
    "\n",
    "kernel = cv.getStructuringElement(cv.MORPH_ELLIPSE,(3,3))\n",
    "fgbg   = cv.createBackgroundSubtractorMOG2();\n",
    "\n",
    "frames = []\n",
    "for i in range(1,4,1):\n",
    "    frames.append(cv.imread(f\"C:\\\\Users\\\\user1\\\\Documents\\\\Arma 3\\\\Screenshots\\\\Malden-Leopard2A6HEL_2-null%d.png\"%(i),0))\n",
    "frames = np.array(frames)\n",
    "avgFrame = np.mean(frames,axis=0)\n",
    "\n",
    "fgmask = fgbg.apply(avgFrame)\n",
    "#fgmask = cv.morphologyEx(fgmask, cv.MORPH_OPEN, kernel)\n",
    "cv.imshow('frame',fgmask)\n",
    "k = cv.waitKey(100) & 0xff\n",
    "if k == 27:\n",
    "    pass\n",
    "\n",
    "\n",
    "frames = []\n",
    "for i in range(1,4,1):\n",
    "    frames.append(cv.imread(f\"C:\\\\Users\\\\user1\\\\Documents\\\\Arma 3\\\\Screenshots\\\\Malden-Leopard2A6HEL_2-%d.png\"%(i),0))\n",
    "frames = np.array(frames)\n",
    "avgFrame = np.mean(frames,axis=0)\n",
    "\n",
    "\n",
    "fgmask = fgbg.apply(avgFrame)\n",
    "fgmask = cv.morphologyEx(fgmask, cv.MORPH_OPEN, kernel)\n",
    "\n",
    "# Find contours\n",
    "disp = cv.imread(f\"C:\\\\Users\\\\user1\\\\Documents\\\\Arma 3\\\\Screenshots\\\\Malden-Leopard2A6HEL_2-3.png\",1)\n",
    "contours, _ = cv.findContours(fgmask, cv.RETR_EXTERNAL, cv.CHAIN_APPROX_SIMPLE)\n",
    "newC = sorted(contours, key=cv.contourArea,reverse = True) # Get the bounding box of the largest contour\n",
    "for c in newC:\n",
    "    x, y, w, h = cv.boundingRect(c)\n",
    "    print(x,y,w,h)\n",
    "    cv.rectangle(disp, (x, y), (x+w, y+h), (255, 0, 0), 2)\n",
    "    break\n",
    "\n",
    "cv.imshow('rect',disp)\n",
    "cv.imshow('frame',fgmask)\n",
    "cv.waitKey(0)\n",
    "cv.destroyAllWindows()"
   ]
  },
  {
   "cell_type": "markdown",
   "metadata": {},
   "source": [
    "# Simple image differencing. good in case i could freeze time in the game"
   ]
  },
  {
   "cell_type": "code",
   "execution_count": null,
   "metadata": {},
   "outputs": [],
   "source": [
    "ye = cv.imread(r\"C:\\Users\\user1\\Documents\\Arma 3\\Screenshots\\New folder\\1_with.png\",1)\n",
    "no = cv.imread(r\"C:\\Users\\user1\\Documents\\Arma 3\\Screenshots\\New folder\\1_blank.png\",1)\n",
    "# ye_g =  cv.blur(cv.cvtColor(ye, cv.COLOR_BGR2GRAY ),(3,3))\n",
    "# no_g =  cv.blur(cv.cvtColor(no, cv.COLOR_BGR2GRAY ),(3,3))\n",
    "ye_g =  cv.cvtColor(ye, cv.COLOR_BGR2GRAY )\n",
    "no_g =  cv.cvtColor(no, cv.COLOR_BGR2GRAY )\n",
    "\n",
    "\n",
    "diff = (no_g-ye_g).astype('f')\n",
    "diff += diff.min(); m = diff.max()\n",
    "diff *= 255\n",
    "#cv.imshow('diff1',diff)\n",
    "\n",
    "diff = np.clip(diff,0,255)\n",
    "diff = diff.astype('u1')\n",
    "kernel = np.ones((3, 3), np.uint8)\n",
    "diff = cv.erode(diff, kernel, iterations=1)\n",
    "diff = cv.dilate(diff, kernel, iterations=2)\n",
    "diff = cv.blur(diff,(5,5))\n",
    "cv.imshow('diff2',diff)\n",
    "\n",
    "params = cv.SimpleBlobDetector_Params()\n",
    "params.filterByArea = True\n",
    "params.minArea = 100\n",
    "params.filterByCircularity = False\n",
    "params.filterByConvexity = False\n",
    "params.filterByInertia = False\n",
    "\n",
    "detector = cv.SimpleBlobDetector_create(params)\n",
    "# Detect blobs.\n",
    "keypoints = detector.detect(diff)\n",
    "# Draw detected blobs as red circles.\n",
    "# cv2.DRAW_MATCHES_FLAGS_DRAW_RICH_KEYPOINTS ensures the size of the circle corresponds to the size of blob\n",
    "im_with_keypoints = cv.drawKeypoints(ye, keypoints, np.array([]), (0,0,255), cv.DRAW_MATCHES_FLAGS_DRAW_RICH_KEYPOINTS)\n",
    "# Show keypoints\n",
    "cv.imshow(\"Keypoints\", im_with_keypoints)\n",
    "\n",
    "# thres,th = cv.threshold(diff,0,255,cv.THRESH_BINARY+cv.THRESH_OTSU)\n",
    "# cv.imshow('thress',th)\n",
    "\n",
    "\n",
    "contours, _ = cv.findContours(diff, cv.RETR_EXTERNAL, cv.CHAIN_APPROX_SIMPLE)\n",
    "output = ye.astype('u1')\n",
    "# Get the bounding box of the largest contour\n",
    "for c in contours:\n",
    "    x, y, w, h = cv.boundingRect(c)\n",
    "    print(x,y,w,h)\n",
    "    cv.rectangle(output, (x, y), (x+w, y+h), (255, 0, 0), 2)\n",
    "cv.imshow('output',output)"
   ]
  },
  {
   "cell_type": "markdown",
   "metadata": {},
   "source": [
    "## Using Structural similarity"
   ]
  },
  {
   "cell_type": "code",
   "execution_count": 74,
   "metadata": {},
   "outputs": [
    {
     "name": "stdout",
     "output_type": "stream",
     "text": [
      "Image Similarity: 98.9023%\n"
     ]
    },
    {
     "data": {
      "text/plain": [
       "-1"
      ]
     },
     "execution_count": 74,
     "metadata": {},
     "output_type": "execute_result"
    }
   ],
   "source": [
    "#  https://stackoverflow.com/a/58125368\n",
    "from skimage.metrics import structural_similarity\n",
    "import cv2\n",
    "\n",
    "# Load images as grayscale\n",
    "\n",
    "image1 = cv.imread(r\"C:\\Users\\user1\\Documents\\Arma 3\\Screenshots\\New folder\\1_with.png\",0)\n",
    "image2 = cv.imread(r\"C:\\Users\\user1\\Documents\\Arma 3\\Screenshots\\New folder\\1_blank.png\",0)\n",
    "# Compute SSIM between the two images\n",
    "(score, diff) = structural_similarity(image1, image2, full=True)\n",
    "\n",
    "# The diff image contains the actual image differences between the two images\n",
    "# and is represented as a floating point data type in the range [0,1] \n",
    "# so we must convert the array to 8-bit unsigned integers in the range\n",
    "# [0,255] image1 we can use it with OpenCV\n",
    "diff = (diff * 255).astype(\"uint8\")\n",
    "print(\"Image Similarity: {:.4f}%\".format(score * 100))\n",
    "\n",
    "cv2.imshow('diff', diff)\n",
    "cv2.waitKey()"
   ]
  }
 ],
 "metadata": {
  "kernelspec": {
   "display_name": "base",
   "language": "python",
   "name": "python3"
  },
  "language_info": {
   "codemirror_mode": {
    "name": "ipython",
    "version": 3
   },
   "file_extension": ".py",
   "mimetype": "text/x-python",
   "name": "python",
   "nbconvert_exporter": "python",
   "pygments_lexer": "ipython3",
   "version": "3.12.7"
  }
 },
 "nbformat": 4,
 "nbformat_minor": 2
}
