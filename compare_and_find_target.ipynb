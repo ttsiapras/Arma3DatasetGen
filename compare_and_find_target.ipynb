{
 "cells": [
  {
   "cell_type": "code",
   "execution_count": null,
   "metadata": {},
   "outputs": [],
   "source": [
    "import numpy as np\n",
    "import matplotlib.pyplot as plt\n",
    "import cv2 as cv\n",
    "from matplotlib import image\n",
    "%matplotlib qt"
   ]
  },
  {
   "cell_type": "code",
   "execution_count": 127,
   "metadata": {},
   "outputs": [
    {
     "name": "stdout",
     "output_type": "stream",
     "text": [
      "915 508 102 101\n"
     ]
    },
    {
     "data": {
      "text/plain": [
       "(-0.5, 1919.5, 1081.5, -0.5)"
      ]
     },
     "execution_count": 127,
     "metadata": {},
     "output_type": "execute_result"
    }
   ],
   "source": [
    "fig = plt.figure()\n",
    "ye = np.array(image.imread(r\"C:\\Users\\user1\\Documents\\SyntheticDataGen\\39.png\")*255,dtype='u1')[:,:,:3]\n",
    "no = np.array(image.imread(r\"C:\\Users\\user1\\Documents\\SyntheticDataGen\\39_blank.png\")*255,dtype='u1')[:,:,:3]\n",
    "\n",
    "ye_g =  np.mean(ye,2)\n",
    "no_g = np.mean(no,2)\n",
    "\n",
    "fig.add_subplot(4,1,1)\n",
    "plt.imshow(ye,cmap='gray')\n",
    "plt.axis('off')\n",
    "\n",
    "fig.add_subplot(4,1,2)\n",
    "plt.imshow(no,cmap='gray')\n",
    "plt.axis('off')\n",
    "\n",
    "diff = no_g-ye_g\n",
    "\n",
    "diff += diff.min()\n",
    "diff /= diff.max()\n",
    "diff *= 255\n",
    "diff = np.clip(diff,0,255)\n",
    "diff = diff.astype('u1')\n",
    "kernel = np.ones((11, 11), np.uint8)\n",
    "diff = cv.dilate(diff, kernel, iterations=2)\n",
    "diff = cv.blur(diff,(5,5))\n",
    "#plt.imshow(diff,cmap='gray')\n",
    "\n",
    "#th = cv.adaptiveThreshold(diff,255,cv.ADAPTIVE_THRESH_GAUSSIAN_C,cv.THRESH_BINARY_INV,111,1)\n",
    "thres,th = cv.threshold(diff,0,255,cv.THRESH_BINARY+cv.THRESH_OTSU)\n",
    "fig.add_subplot(4,1,3)\n",
    "plt.imshow(th,cmap='gray')\n",
    "plt.axis('off')\n",
    "\n",
    "\n",
    "# Find contours\n",
    "contours, _ = cv.findContours(diff, cv.RETR_EXTERNAL, cv.CHAIN_APPROX_SIMPLE)\n",
    "output = ye.astype('u1')\n",
    "# Get the bounding box of the largest contour\n",
    "for c in contours:\n",
    "    x, y, w, h = cv.boundingRect(c)\n",
    "    print(x,y,w,h)\n",
    "    cv.rectangle(output, (x, y), (x+w, y+h), (255, 0, 0), 2)\n",
    "\n",
    "\n",
    "fig.add_subplot(4,1,4)\n",
    "plt.imshow(output,cmap='gray')\n",
    "plt.axis('off')"
   ]
  }
 ],
 "metadata": {
  "kernelspec": {
   "display_name": "base",
   "language": "python",
   "name": "python3"
  },
  "language_info": {
   "codemirror_mode": {
    "name": "ipython",
    "version": 3
   },
   "file_extension": ".py",
   "mimetype": "text/x-python",
   "name": "python",
   "nbconvert_exporter": "python",
   "pygments_lexer": "ipython3",
   "version": "3.12.7"
  }
 },
 "nbformat": 4,
 "nbformat_minor": 2
}
