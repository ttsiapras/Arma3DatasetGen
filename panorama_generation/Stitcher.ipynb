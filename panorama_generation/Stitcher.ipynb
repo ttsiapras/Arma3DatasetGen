{
 "cells": [
  {
   "cell_type": "markdown",
   "metadata": {},
   "source": [
    "**Use the visual spectrum images to initialize the sticher and tehn you can use the initialized sticher to \n",
    "create panoramas in different sensors like thermal and Night-vission**"
   ]
  },
  {
   "cell_type": "code",
   "execution_count": 3,
   "metadata": {},
   "outputs": [
    {
     "ename": "",
     "evalue": "",
     "output_type": "error",
     "traceback": [
      "\u001b[1;31mThe Kernel crashed while executing code in the current cell or a previous cell. \n",
      "\u001b[1;31mPlease review the code in the cell(s) to identify a possible cause of the failure. \n",
      "\u001b[1;31mClick <a href='https://aka.ms/vscodeJupyterKernelCrash'>here</a> for more info. \n",
      "\u001b[1;31mView Jupyter <a href='command:jupyter.viewOutput'>log</a> for further details."
     ]
    }
   ],
   "source": [
    "\n",
    "import cv2 \n",
    "image_paths=[\n",
    "r\"C:\\Users\\user1\\Desktop\\tank_pano_in (1).png\",\n",
    "r\"C:\\Users\\user1\\Desktop\\tank_pano_in (2).png\",\n",
    "r\"C:\\Users\\user1\\Desktop\\tank_pano_in (3).png\",\n",
    "r\"C:\\Users\\user1\\Desktop\\tank_pano_in (4).png\",\n",
    "r\"C:\\Users\\user1\\Desktop\\tank_pano_in (5).png\",\n",
    "r\"C:\\Users\\user1\\Desktop\\tank_pano_in (6).png\",\n",
    "r\"C:\\Users\\user1\\Desktop\\tank_pano_in (7).png\",\n",
    "r\"C:\\Users\\user1\\Desktop\\tank_pano_in (8).png\",\n",
    "r\"C:\\Users\\user1\\Desktop\\tank_pano_in (9).png\",\n",
    "r\"C:\\Users\\user1\\Desktop\\tank_pano_in (10).png\",\n",
    "r\"C:\\Users\\user1\\Desktop\\tank_pano_in (11).png\",\n",
    "r\"C:\\Users\\user1\\Desktop\\tank_pano_in (12).png\",\n",
    "]\n",
    "\n",
    "# initialized a list of images \n",
    "imgs = [] \n",
    "  \n",
    "for i in range(len(image_paths)): \n",
    "    imgs.append(cv2.imread(image_paths[i])) \n",
    "    imgs[i]=cv2.resize(imgs[i],(0,0),fx=0.9,fy=0.9) \n",
    "    # this is optional if your input images isn't too large \n",
    "    # you don't need to scale down the image \n",
    "    # in my case the input images are of dimensions 3000x1200 \n",
    "    # and due to this the resultant image won't fit the screen \n",
    "    # scaling down the images  \n",
    "# showing the original pictures \n",
    "\n",
    "  \n",
    "stitchy=cv2.Stitcher.create() \n",
    "(dummy,output)=stitchy.stitch(imgs) \n",
    "  \n",
    "if dummy != cv2.STITCHER_OK: \n",
    "  # checking if the stitching procedure is successful \n",
    "  # .stitch() function returns a true value if stitching is  \n",
    "  # done successfully \n",
    "    print(\"stitching ain't successful\") \n",
    "else:  \n",
    "    print('Your Panorama is ready!!!') \n",
    "  \n",
    "# final output \n",
    "cv2.imwrite(r\"C:\\Users\\user1\\Desktop\\panoVIS.png\",output)\n",
    "cv2.imshow('final result',cv2.resize(output,(0,0),fx=0.5,fy=0.5)) \n",
    "  \n",
    "cv2.waitKey(0)\n",
    "cv2.destroyAllWindows()\n"
   ]
  },
  {
   "cell_type": "code",
   "execution_count": 17,
   "metadata": {},
   "outputs": [],
   "source": [
    "image_paths=[\n",
    "r\"D:\\arma3_screenshots\\107410_20250130155535_1.png\",\n",
    "r\"D:\\arma3_screenshots\\107410_20250130155537_1.png\",\n",
    "r\"D:\\arma3_screenshots\\107410_20250130155539_1.png\",\n",
    "r\"D:\\arma3_screenshots\\107410_20250130155540_1.png\",\n",
    "r\"D:\\arma3_screenshots\\107410_20250130155542_1.png\",\n",
    "r\"D:\\arma3_screenshots\\107410_20250130155521_1.png\",\n",
    "r\"D:\\arma3_screenshots\\107410_20250130155523_1.png\",\n",
    "r\"D:\\arma3_screenshots\\107410_20250130155525_1.png\",\n",
    "r\"D:\\arma3_screenshots\\107410_20250130155527_1.png\",\n",
    "r\"D:\\arma3_screenshots\\107410_20250130155529_1.png\",\n",
    "r\"D:\\arma3_screenshots\\107410_20250130155531_1.png\"\n",
    "]\n",
    "\n",
    "# initialized a list of images \n",
    "imgs = [] \n",
    "  \n",
    "for i in range(len(image_paths)): \n",
    "    imgs.append(cv2.imread(image_paths[i])) \n",
    "    imgs[i]=cv2.resize(imgs[i],(0,0),fx=0.9,fy=0.9)\n",
    "\n",
    "\n",
    "(dummy,output2)=stitchy.composePanorama(imgs)\n",
    "cv2.imwrite(r\"C:\\Users\\user1\\Desktop\\panoLWIR.png\",output2)\n",
    "cv2.imshow('final result',cv2.resize(output2,(0,0),fx=1,fy=1)) \n",
    "  \n",
    "cv2.waitKey(0)\n",
    "cv2.destroyAllWindows()"
   ]
  },
  {
   "cell_type": "code",
   "execution_count": 19,
   "metadata": {},
   "outputs": [],
   "source": [
    "image_paths=[\n",
    "r\"D:\\arma3_screenshots\\107410_20250124115321_1.png\",\n",
    "r\"D:\\arma3_screenshots\\107410_20250124115323_1.png\",\n",
    "r\"D:\\arma3_screenshots\\107410_20250124115325_1.png\",\n",
    "r\"D:\\arma3_screenshots\\107410_20250124115327_1.png\",\n",
    "r\"D:\\arma3_screenshots\\107410_20250124115329_1.png\",\n",
    "r\"D:\\arma3_screenshots\\107410_20250124115306_1.png\",\n",
    "r\"D:\\arma3_screenshots\\107410_20250124115309_1.png\",\n",
    "r\"D:\\arma3_screenshots\\107410_20250124115311_1.png\",\n",
    "r\"D:\\arma3_screenshots\\107410_20250124115313_1.png\",\n",
    "r\"D:\\arma3_screenshots\\107410_20250124115315_1.png\",\n",
    "r\"D:\\arma3_screenshots\\107410_20250124115317_1.png\"\n",
    "]\n",
    "\n",
    "# initialized a list of images \n",
    "imgs = [] \n",
    "  \n",
    "for i in range(len(image_paths)): \n",
    "    imgs.append(cv2.imread(image_paths[i])) \n",
    "    imgs[i]=cv2.resize(imgs[i],(0,0),fx=0.9,fy=0.9)\n",
    "\n",
    "\n",
    "(dummy,output3)=stitchy.composePanorama(imgs)\n",
    "cv2.imwrite(r\"C:\\Users\\user1\\Desktop\\panoNVIS.png\",output3)\n",
    "cv2.imshow('final result',cv2.resize(output3,(0,0),fx=1,fy=1)) \n",
    "  \n",
    "cv2.waitKey(0)\n",
    "cv2.destroyAllWindows()\n"
   ]
  }
 ],
 "metadata": {
  "kernelspec": {
   "display_name": "base",
   "language": "python",
   "name": "python3"
  },
  "language_info": {
   "codemirror_mode": {
    "name": "ipython",
    "version": 3
   },
   "file_extension": ".py",
   "mimetype": "text/x-python",
   "name": "python",
   "nbconvert_exporter": "python",
   "pygments_lexer": "ipython3",
   "version": "3.12.7"
  }
 },
 "nbformat": 4,
 "nbformat_minor": 2
}
