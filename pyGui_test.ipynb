{
 "cells": [
  {
   "cell_type": "code",
   "execution_count": 14,
   "metadata": {},
   "outputs": [],
   "source": [
    "\n",
    "# necessary imports\n",
    "import pyautogui\n",
    "import os\n",
    "import time\n",
    "from win32api import GetSystemMetrics\n",
    "from pathlib import Path\n"
   ]
  },
  {
   "cell_type": "code",
   "execution_count": 2,
   "metadata": {},
   "outputs": [
    {
     "ename": "NameError",
     "evalue": "name 'pyautogui' is not defined",
     "output_type": "error",
     "traceback": [
      "\u001b[1;31m---------------------------------------------------------------------------\u001b[0m",
      "\u001b[1;31mNameError\u001b[0m                                 Traceback (most recent call last)",
      "Cell \u001b[1;32mIn[2], line 1\u001b[0m\n\u001b[1;32m----> 1\u001b[0m pyautogui\u001b[38;5;241m.\u001b[39mkeyDown(\u001b[38;5;124m'\u001b[39m\u001b[38;5;124mwin\u001b[39m\u001b[38;5;124m'\u001b[39m)\n\u001b[0;32m      2\u001b[0m pyautogui\u001b[38;5;241m.\u001b[39mpress(\u001b[38;5;124m'\u001b[39m\u001b[38;5;124mr\u001b[39m\u001b[38;5;124m'\u001b[39m)\n\u001b[0;32m      3\u001b[0m pyautogui\u001b[38;5;241m.\u001b[39mkeyUp(\u001b[38;5;124m'\u001b[39m\u001b[38;5;124mwin\u001b[39m\u001b[38;5;124m'\u001b[39m)\n",
      "\u001b[1;31mNameError\u001b[0m: name 'pyautogui' is not defined"
     ]
    }
   ],
   "source": [
    "pyautogui.keyDown('win')\n",
    "pyautogui.press('r')\n",
    "pyautogui.keyUp('win')\n",
    "time.sleep(1)\n",
    "pyautogui.press('delete')\n",
    "time.sleep(1)\n",
    "pyautogui.typewrite('steam://run/107410')\n",
    "time.sleep(1)\n",
    "pyautogui.press('enter')"
   ]
  },
  {
   "cell_type": "code",
   "execution_count": 8,
   "metadata": {},
   "outputs": [],
   "source": [
    "import subprocess\n",
    "try:\n",
    "    subprocess.Popen(['C:\\\\Program Files (x86)\\\\Steam\\\\steamapps\\\\common\\\\Arma 3\\\\Arma3_x64.exe'])\n",
    "except FileNotFoundError:\n",
    "    print('ERROR:')\n",
    "    print('The path to the Arma3_x64 executable is incorrect for this system. Please change the path in the '\n",
    "          'script or the path to the game to properly reflect the correct path in both places.')\n",
    "    exit(1)\n",
    "else:\n",
    "    # give the game time to open\n",
    "    time.sleep(130)"
   ]
  },
  {
   "cell_type": "code",
   "execution_count": null,
   "metadata": {},
   "outputs": [],
   "source": [
    "\n"
   ]
  },
  {
   "cell_type": "code",
   "execution_count": null,
   "metadata": {},
   "outputs": [],
   "source": [
    "slow = 0.5\n",
    "wait2Press = 0.5\n",
    "\n",
    "time.sleep(5)\n",
    "# this will run the game from the launcher\n",
    "pyautogui.moveTo(136, 981, duration=slow)\n",
    "time.sleep(wait2Press)\n",
    "pyautogui.click(button='left')\n",
    "\n",
    "# wait for game to open\n",
    "time.sleep(25)\n",
    "# this click will open the editor map select screen\n",
    "pyautogui.moveTo(1302, 598, duration=slow)\n",
    "time.sleep(wait2Press)\n",
    "pyautogui.click(button='left')\n",
    "\n",
    "time.sleep(3)\n",
    "\n",
    "# this clicks on the map \"Stratis\"\n",
    "pyautogui.moveTo(600, 360, duration=slow)\n",
    "time.sleep(wait2Press)\n",
    "pyautogui.click(button='left')\n",
    "\n",
    "time.sleep(1)\n",
    "\n",
    "# this clicks on the confirm button to load Stratis\n",
    "pyautogui.moveTo(1325, 900, duration=slow)\n",
    "time.sleep(wait2Press)\n",
    "pyautogui.click(button='left')\n",
    "\n",
    "time.sleep(5)\n",
    "\n",
    "# this click opens the scenario menu bar option\n",
    "pyautogui.moveTo(45, 45, duration=slow)\n",
    "time.sleep(wait2Press)\n",
    "pyautogui.click(button='left')\n",
    "\n",
    "time.sleep(1)\n",
    "\n",
    "# this click hits open (to open the mission open window)\n",
    "pyautogui.moveTo(50, 120, duration=slow)\n",
    "time.sleep(wait2Press)\n",
    "pyautogui.click(button='left')\n",
    "\n",
    "time.sleep(1)\n",
    "\n",
    "\n",
    "# this click physically opens the mission\n",
    "pyautogui.moveTo(1410, 1060,duration=slow) # cancel button\n",
    "time.sleep(wait2Press)\n",
    "pyautogui.click(button='left')\n",
    "\n",
    "time.sleep(1)\n",
    "\n",
    "# this click opens the play menu bar option\n",
    "pyautogui.moveTo(520, 40,duration=slow)\n",
    "time.sleep(wait2Press)\n",
    "pyautogui.click(button='left')\n",
    "\n",
    "time.sleep(1)\n",
    "\n",
    "# this click runs the mission in single player\n",
    "pyautogui.moveTo(520, 80, duration=slow)\n",
    "time.sleep(wait2Press)\n",
    "pyautogui.click(button='left')\n",
    "\n",
    "time.sleep(5)\n"
   ]
  },
  {
   "cell_type": "code",
   "execution_count": 17,
   "metadata": {},
   "outputs": [
    {
     "name": "stdout",
     "output_type": "stream",
     "text": [
      "C:\\Users\\user1\\Documents\\Arma 3\\missions\\DataGeneration.Stratis\n"
     ]
    },
    {
     "data": {
      "text/plain": [
       "16"
      ]
     },
     "execution_count": 17,
     "metadata": {},
     "output_type": "execute_result"
    }
   ],
   "source": [
    "\n",
    "missionsFolder = Path(os.path.expanduser('~\\\\Documents\\\\Arma 3\\\\missions'))\n",
    "customMission = Path(str(missionsFolder) + '\\\\DataGeneration.Stratis')\n",
    "print(customMission)\n",
    "if not customMission.exists():\n",
    "    os.makedirs(customMission, 0o777)\n",
    "initfilepath = Path(str(customMission) + '\\\\init.sqf')\n",
    "missionfilepath = Path(str(customMission) + '\\\\mission.sqm')\n",
    "\n",
    "# write the init.sqf file\n",
    "initfile = open(initfilepath, \"w+\")\n",
    "initfile.write('execVM \"briefing.sqf\";')\n",
    "initfile.close()\n",
    "\n",
    "# write the mission.sqm file\n",
    "missionfile = open(missionfilepath, \"w+\")\n",
    "missionfile.write('version=53;\\n')\n",
    "missionfile.write('class EditorData\\n')\n",
    "missionfile.write('{\\n')\n",
    "missionfile.write('\\tmoveGridStep=1;\\n')\n",
    "missionfile.write('\\tangleGridStep=0.2617994;\\n')\n",
    "missionfile.write('\\tscaleGridStep=1;\\n')\n",
    "missionfile.write('\\tautoGroupingDist=10;\\n')\n",
    "missionfile.write('\\ttoggles=1;\\n')\n",
    "missionfile.write('\\tclass Camera\\n')\n",
    "missionfile.write('\\t{\\n')\n",
    "missionfile.write('\\t\\tpos[]={14305.279,24.621294,17587.59};\\n')\n",
    "missionfile.write('\\t\\tdir[]={-0.31484151,-0.17364819,-0.93312436};\\n')\n",
    "missionfile.write('\\t\\tup[]={-0.055515055,0.98480767,-0.164535};\\n')\n",
    "missionfile.write('\\t\\taside[]={-0.94751924,0,0.31969842};\\n')\n",
    "missionfile.write('\\t};\\n')\n",
    "missionfile.write('};\\n')\n",
    "missionfile.write('binarizationWanted=0;\\n')\n",
    "missionfile.write('class AddonsMetaData\\n')\n",
    "missionfile.write('{\\n};\\n')\n",
    "missionfile.write('randomSeed=8484358;\\n')\n",
    "missionfile.write('class ScenarioData\\n')\n",
    "missionfile.write('{\\n\\tauthor=\"\";\\n};')"
   ]
  },
  {
   "cell_type": "code",
   "execution_count": null,
   "metadata": {},
   "outputs": [],
   "source": []
  }
 ],
 "metadata": {
  "kernelspec": {
   "display_name": "base",
   "language": "python",
   "name": "python3"
  },
  "language_info": {
   "codemirror_mode": {
    "name": "ipython",
    "version": 3
   },
   "file_extension": ".py",
   "mimetype": "text/x-python",
   "name": "python",
   "nbconvert_exporter": "python",
   "pygments_lexer": "ipython3",
   "version": "3.12.7"
  }
 },
 "nbformat": 4,
 "nbformat_minor": 2
}
