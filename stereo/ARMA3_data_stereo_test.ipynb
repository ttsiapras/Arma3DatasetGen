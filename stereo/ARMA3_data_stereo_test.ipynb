{
 "cells": [
  {
   "cell_type": "code",
   "execution_count": 2,
   "metadata": {},
   "outputs": [],
   "source": [
    "import numpy as np\n",
    "import cv2\n",
    "from matplotlib import pyplot as plt\n",
    "%matplotlib qt\n"
   ]
  },
  {
   "cell_type": "code",
   "execution_count": 4,
   "metadata": {},
   "outputs": [],
   "source": [
    "R1 = r\"C:\\Users\\user1\\Desktop\\Stereo2.png\"\n",
    "R2 = r\"C:\\Users\\user1\\Desktop\\Stereo3.png\"\n",
    "L0 = r\"C:\\Users\\user1\\Desktop\\Strero1.png\"\n"
   ]
  },
  {
   "cell_type": "markdown",
   "metadata": {},
   "source": [
    "# StereoBM"
   ]
  },
  {
   "cell_type": "code",
   "execution_count": null,
   "metadata": {},
   "outputs": [
    {
     "name": "stdout",
     "output_type": "stream",
     "text": [
      "Image shape: (1024, 1600)\n",
      "generating 3d point cloud...\n",
      "C:\\Users\\user1\\Desktop\\out.ply saved\n"
     ]
    }
   ],
   "source": [
    "imgL = cv2.imread(L0, cv2.IMREAD_GRAYSCALE)\n",
    "imgR = cv2.imread(R1, cv2.IMREAD_GRAYSCALE)\n",
    "print(\"Image shape:\",imgL.shape)\n",
    "\n",
    "#############################################################StereoBM\n",
    "stereo = cv2.StereoBM.create(numDisparities=16, blockSize=15)\n",
    "disparity = stereo.compute(imgL,imgR)\n",
    "#############################################################\n",
    "\n",
    "fig = plt.figure(figsize=(10,10))\n",
    "fig.add_subplot(2,1,1)\n",
    "plt.imshow(imgL,'gray')\n",
    "fig.add_subplot(2,1,2)\n",
    "plt.imshow(disparity,'gray')\n",
    "plt.show()"
   ]
  },
  {
   "cell_type": "code",
   "execution_count": 21,
   "metadata": {},
   "outputs": [],
   "source": [
    "def write_ply(fn, verts, colors):\n",
    "    ply_header = '''ply\n",
    "    format ascii 1.0\n",
    "    element vertex %(vert_num)d\n",
    "    property float x\n",
    "    property float y\n",
    "    property float z\n",
    "    property uchar red\n",
    "    property uchar green\n",
    "    property uchar blue\n",
    "    end_header\n",
    "    '''\n",
    "    verts = verts.reshape(-1, 3)\n",
    "    colors = colors.reshape(-1, 3)\n",
    "    verts = np.hstack([verts, colors])\n",
    "    with open(fn, 'w') as f:\n",
    "        f.write(ply_header % dict(vert_num=len(verts)))\n",
    "        np.savetxt(f, verts, '%f %f %f %d %d %d')"
   ]
  },
  {
   "cell_type": "code",
   "execution_count": 20,
   "metadata": {},
   "outputs": [
    {
     "name": "stdout",
     "output_type": "stream",
     "text": [
      "Image shape: (1024, 1600, 3)\n",
      "computing disparity...\n"
     ]
    },
    {
     "data": {
      "text/plain": [
       "-1"
      ]
     },
     "execution_count": 20,
     "metadata": {},
     "output_type": "execute_result"
    }
   ],
   "source": [
    "imgL = cv2.imread(L0)\n",
    "imgR = cv2.imread(R1)\n",
    "print(\"Image shape:\",imgR.shape)\n",
    "\n",
    "# disparity range is tuned for 'aloe' image pair\n",
    "window_size = 7\n",
    "min_disp = 16\n",
    "num_disp = 112-min_disp\n",
    "stereo = cv2.StereoSGBM_create(\n",
    "    minDisparity = min_disp, \n",
    "    numDisparities = num_disp, \n",
    "    blockSize = window_size,\n",
    "    uniquenessRatio = 10,\n",
    "    speckleWindowSize = 100,\n",
    "    speckleRange = 32,\n",
    "    disp12MaxDiff = 1,\n",
    "    P1 = 8*1*window_size**2,\n",
    "    P2 = 32*1*window_size**2,\n",
    ")\n",
    "\n",
    "print('computing disparity...')\n",
    "disp = stereo.compute(imgL, imgR).astype(np.float32)/16\n",
    "\n",
    "# print('generating 3d point cloud...')\n",
    "# h, w = imgL.shape[:2]\n",
    "# f = 0.8*w                          # guess for focal length\n",
    "# Q = np.float32([[1, 0, 0, -0.5*w],\n",
    "#                 [0,-1, 0,  0.5*h], # turn points 180 deg around x-axis, \n",
    "#                 [0, 0, 0,     -f], # so that y-axis looks up\n",
    "#                 [0, 0, 1,      0]])\n",
    "# points = cv2.reprojectImageTo3D(disp, Q)\n",
    "# colors = cv2.cvtColor(imgL, cv2.COLOR_BGR2RGB)\n",
    "# mask = disp > disp.min()\n",
    "# out_points = points[mask]\n",
    "# out_colors = colors[mask]\n",
    "# out_fn = r\"C:\\Users\\user1\\Desktop\\out.ply\"\n",
    "# write_ply(out_fn, out_points, out_colors)\n",
    "# print ('%s saved' % out_fn)\n",
    "\n",
    "cv2.imshow('left', imgL)\n",
    "cv2.imshow('disparity', disp)\n",
    "cv2.waitKey()"
   ]
  },
  {
   "cell_type": "code",
   "execution_count": 15,
   "metadata": {},
   "outputs": [
    {
     "name": "stdout",
     "output_type": "stream",
     "text": [
      "Image shape: (1024, 1600, 3)\n",
      "computing disparity...\n",
      "generating 3d point cloud...\n",
      "C:\\Users\\user1\\Desktop\\out.ply saved\n"
     ]
    },
    {
     "data": {
      "text/plain": [
       "-1"
      ]
     },
     "execution_count": 15,
     "metadata": {},
     "output_type": "execute_result"
    }
   ],
   "source": [
    "imgL = cv2.imread(L0)\n",
    "imgR = cv2.imread(R1)\n",
    "print(\"Image shape:\",imgR.shape)\n",
    "\n",
    "# disparity range is tuned for 'aloe' image pair\n",
    "window_size = 3\n",
    "min_disp = 16\n",
    "num_disp = 112-min_disp\n",
    "stereo = cv2.StereoSGBM_create(\n",
    "    minDisparity = min_disp, \n",
    "    numDisparities = num_disp, \n",
    "    blockSize = window_size,\n",
    "    uniquenessRatio = 10,\n",
    "    speckleWindowSize = 100,\n",
    "    speckleRange = 32,\n",
    "    disp12MaxDiff = 1,\n",
    "    P1 = 8*1*window_size**2,\n",
    "    P2 = 32*1*window_size**2,\n",
    ")\n",
    "\n",
    "print('computing disparity...')\n",
    "disp = stereo.compute(imgL, imgR).astype(np.float32) / 16.0\n",
    "\n",
    "print('generating 3d point cloud...')\n",
    "h, w = imgL.shape[:2]\n",
    "f = 0.8*w                          # guess for focal length\n",
    "Q = np.float32([[1, 0, 0, -0.5*w],\n",
    "                [0,-1, 0,  0.5*h], # turn points 180 deg around x-axis, \n",
    "                [0, 0, 0,     -f], # so that y-axis looks up\n",
    "                [0, 0, 1,      0]])\n",
    "points = cv2.reprojectImageTo3D(disp, Q)\n",
    "colors = cv2.cvtColor(imgL, cv2.COLOR_BGR2RGB)\n",
    "mask = disp > disp.min()\n",
    "out_points = points[mask]\n",
    "out_colors = colors[mask]\n",
    "out_fn = r\"C:\\Users\\user1\\Desktop\\out.ply\"\n",
    "write_ply(out_fn, out_points, out_colors)\n",
    "print ('%s saved' % out_fn)\n",
    "\n",
    "cv2.imshow('left', imgL)\n",
    "cv2.imshow('disparity', (disp-min_disp)/num_disp)\n",
    "cv2.waitKey()"
   ]
  },
  {
   "cell_type": "code",
   "execution_count": 7,
   "metadata": {},
   "outputs": [
    {
     "data": {
      "text/plain": [
       "'D:\\\\arma3_screenshots\\\\Stereo1.png'"
      ]
     },
     "execution_count": 7,
     "metadata": {},
     "output_type": "execute_result"
    }
   ],
   "source": [
    "imgL = cv2.imread(L0, cv2.IMREAD_GRAYSCALE)\n",
    "imgR = cv2.imread(R1, cv2.IMREAD_GRAYSCALE)\n",
    "print(\"Image shape:\",imgL.shape)\n",
    "\n",
    "#############################################################StereoBM\n",
    "stereo = cv2.StereoBM.create(numDisparities=16, blockSize=15)\n",
    "disparity = stereo.compute(imgL,imgR)\n",
    "#############################################################\n",
    "\n",
    "fig = plt.figure(figsize=(10,10))\n",
    "fig.add_subplot(2,1,1)\n",
    "plt.imshow(imgL,'gray')\n",
    "fig.add_subplot(2,1,2)\n",
    "plt.imshow(disparity,'gray')\n",
    "plt.show()"
   ]
  },
  {
   "cell_type": "code",
   "execution_count": 8,
   "metadata": {},
   "outputs": [],
   "source": [
    "xcv.imread('D:\\\\arma3_screenshots\\\\Stereo1.png', cv.IMREAD_GRAYSCALE)"
   ]
  },
  {
   "cell_type": "code",
   "execution_count": 11,
   "metadata": {},
   "outputs": [
    {
     "name": "stdout",
     "output_type": "stream",
     "text": [
      "(1024, 1600) (1024, 1600)\n"
     ]
    }
   ],
   "source": [
    "imgL = cv.imread(\"D:/arma3_screenshots/Strero1.png\", cv.IMREAD_GRAYSCALE)\n",
    "imgR = cv.imread(\"D:/arma3_screenshots/Strero2.png\", cv.IMREAD_GRAYSCALE)\n",
    "\n",
    "print(imgL.shape,imgR.shape)"
   ]
  },
  {
   "cell_type": "code",
   "execution_count": null,
   "metadata": {},
   "outputs": [],
   "source": []
  }
 ],
 "metadata": {
  "kernelspec": {
   "display_name": "base",
   "language": "python",
   "name": "python3"
  },
  "language_info": {
   "codemirror_mode": {
    "name": "ipython",
    "version": 3
   },
   "file_extension": ".py",
   "mimetype": "text/x-python",
   "name": "python",
   "nbconvert_exporter": "python",
   "pygments_lexer": "ipython3",
   "version": "3.12.7"
  }
 },
 "nbformat": 4,
 "nbformat_minor": 2
}
